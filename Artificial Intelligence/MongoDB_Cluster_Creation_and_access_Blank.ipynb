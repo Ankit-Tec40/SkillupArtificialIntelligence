{
 "cells": [
  {
   "cell_type": "markdown",
   "metadata": {},
   "source": [
    "This will create a DB named `books`, if it doesn't exist and switch to that DB. But the DB will not be listed in the show dbs until the database has some data because in Mongo the database is in the form of a file. The file is not created until the collections are created."
   ]
  },
  {
   "cell_type": "code",
   "execution_count": 1,
   "metadata": {},
   "outputs": [
    {
     "output_type": "stream",
     "name": "stdout",
     "text": [
      "Requirement already satisfied: pymongo in c:\\users\\asus\\appdata\\local\\programs\\python\\python39\\lib\\site-packages (3.11.2)\n"
     ]
    }
   ],
   "source": [
    "#Uncomment the following line and install pymongo if you don't have pymongo already.\n",
    "#Alternatively, if you are using Anaconda, you can run \n",
    "!pip install pymongo"
   ]
  },
  {
   "cell_type": "code",
   "execution_count": 2,
   "metadata": {},
   "outputs": [],
   "source": [
    "from pymongo import MongoClient\n",
    "client = MongoClient('mongodb://localhost:27017/')"
   ]
  },
  {
   "cell_type": "code",
   "execution_count": 3,
   "metadata": {},
   "outputs": [],
   "source": [
    "#This will create a Collection/Database called books if it doesn't already exist\n",
    "db = client['books']"
   ]
  },
  {
   "cell_type": "code",
   "execution_count": 4,
   "metadata": {},
   "outputs": [],
   "source": [
    "books = db.books"
   ]
  },
  {
   "cell_type": "code",
   "execution_count": 5,
   "metadata": {},
   "outputs": [
    {
     "output_type": "execute_result",
     "data": {
      "text/plain": [
       "<pymongo.results.InsertOneResult at 0x19d07035580>"
      ]
     },
     "metadata": {},
     "execution_count": 5
    }
   ],
   "source": [
    "books.insert_one({\"author\": \"Sidney Sheldon\",\n",
    "            \"about\": \"Tell Me Your Dreams\",\n",
    "            \"tags\":\n",
    "                [\"MPD\", \"Murder\", \"Mystery\"]})"
   ]
  },
  {
   "cell_type": "code",
   "execution_count": 6,
   "metadata": {},
   "outputs": [
    {
     "output_type": "execute_result",
     "data": {
      "text/plain": [
       "{'_id': ObjectId('5ff70f6015fec5a803ef0b0e'),\n",
       " 'author': 'Sidney Sheldon',\n",
       " 'about': 'Tell Me Your Dreams',\n",
       " 'tags': ['MPD', 'Murder', 'Mystery']}"
      ]
     },
     "metadata": {},
     "execution_count": 6
    }
   ],
   "source": [
    "#This line will find all of books information that was inserted by the previous line.\n",
    "books.find_one()"
   ]
  },
  {
   "cell_type": "code",
   "execution_count": null,
   "metadata": {},
   "outputs": [],
   "source": []
  }
 ],
 "metadata": {
  "kernelspec": {
   "name": "python3",
   "display_name": "Python 3.9.1 64-bit",
   "metadata": {
    "interpreter": {
     "hash": "b5843a13e7131a14c3c0e364f0390d6592a995e3082c3f83420ac4385eeb2370"
    }
   }
  },
  "language_info": {
   "codemirror_mode": {
    "name": "ipython",
    "version": 3
   },
   "file_extension": ".py",
   "mimetype": "text/x-python",
   "name": "python",
   "nbconvert_exporter": "python",
   "pygments_lexer": "ipython3",
   "version": "3.9.1-final"
  }
 },
 "nbformat": 4,
 "nbformat_minor": 4
}