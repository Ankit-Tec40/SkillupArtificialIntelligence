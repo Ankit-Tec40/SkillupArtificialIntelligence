{
 "cells": [
  {
   "cell_type": "code",
   "execution_count": 17,
   "metadata": {},
   "outputs": [],
   "source": [
    "#Imports MongoDB into Python if not already imported\n",
    "import pymongo\n",
    "from pymongo import MongoClient\n",
    "client = MongoClient('mongodb://localhost:27017/')"
   ]
  },
  {
   "cell_type": "code",
   "execution_count": 18,
   "metadata": {},
   "outputs": [],
   "source": [
    "#This will create a Collection/Database called books if it doesn't already exist\n",
    "db = client['books']\n",
    "\n"
   ]
  },
  {
   "cell_type": "code",
   "execution_count": 19,
   "metadata": {},
   "outputs": [],
   "source": [
    "#Names the collection\n",
    "books = db.books\n",
    "\n"
   ]
  },
  {
   "cell_type": "code",
   "execution_count": 20,
   "metadata": {},
   "outputs": [
    {
     "output_type": "execute_result",
     "data": {
      "text/plain": [
       "<pymongo.results.InsertManyResult at 0x2474a13efc0>"
      ]
     },
     "metadata": {},
     "execution_count": 20
    }
   ],
   "source": [
    "#Inserts the book data\n",
    "db.books.insert_many([{\"book\": \"The Ranch\", \"author\": \"Danielle Steel\"},\n",
    "                                {\"book\": \"The Firm\", \"author\": \"John Grisham\"},\n",
    "                                {\"book\": \"The runaway jury\", \"author\": \"John Grisham\"},\n",
    "                                {\"book\": \"Time to kill\", \"author\": \"John Grisham\"},\n",
    "                                {\"book\": \"The testament\", \"author\": \"John Grisham\"},\n",
    "                                {\"book\": \"Tell me your Dreams\", \"author\": \"Sidney Sheldon\"}\n",
    "                              ])"
   ]
  },
  {
   "cell_type": "code",
   "execution_count": 21,
   "metadata": {},
   "outputs": [
    {
     "output_type": "stream",
     "name": "stdout",
     "text": [
      "{'_id': ObjectId('5ff70f6015fec5a803ef0b0e'), 'author': 'Sidney Sheldon', 'about': 'Tell Me Your Dreams', 'tags': ['MPD', 'Murder', 'Mystery']}\n{'_id': ObjectId('5ff957f4aca1b3375b665446'), 'book': 'The Ranch', 'author': 'Danielle Steel'}\n{'_id': ObjectId('5ff957f4aca1b3375b665447'), 'book': 'The Firm', 'author': 'John Grisham'}\n{'_id': ObjectId('5ff957f4aca1b3375b665448'), 'book': 'The runaway jury', 'author': 'John Grisham'}\n{'_id': ObjectId('5ff957f4aca1b3375b665449'), 'book': 'Time to kill', 'author': 'John Grisham'}\n{'_id': ObjectId('5ff957f4aca1b3375b66544a'), 'book': 'The testament', 'author': 'John Grisham'}\n{'_id': ObjectId('5ff957f4aca1b3375b66544b'), 'book': 'Tell me your Dreams', 'author': 'Sidney Sheldon'}\n{'_id': ObjectId('5ff958deaca1b3375b66544d'), 'book': 'The Ranch', 'author': 'Danielle Steel'}\n{'_id': ObjectId('5ff958deaca1b3375b66544e'), 'book': 'The Firm', 'author': 'John Grisham'}\n{'_id': ObjectId('5ff958deaca1b3375b66544f'), 'book': 'The runaway jury', 'author': 'John Grisham'}\n{'_id': ObjectId('5ff958deaca1b3375b665450'), 'book': 'Time to kill', 'author': 'John Grisham'}\n{'_id': ObjectId('5ff958deaca1b3375b665451'), 'book': 'The testament', 'author': 'John Grisham'}\n{'_id': ObjectId('5ff958deaca1b3375b665452'), 'book': 'Tell me your Dreams', 'author': 'Sidney Sheldon'}\n{'_id': ObjectId('5ff959517578e2841620c1dc'), 'book': 'The Ranch', 'author': 'Danielle Steel'}\n{'_id': ObjectId('5ff959517578e2841620c1dd'), 'book': 'The Firm', 'author': 'John Grisham'}\n{'_id': ObjectId('5ff959517578e2841620c1de'), 'book': 'The runaway jury', 'author': 'John Grisham'}\n{'_id': ObjectId('5ff959517578e2841620c1df'), 'book': 'Time to kill', 'author': 'John Grisham'}\n{'_id': ObjectId('5ff959517578e2841620c1e0'), 'book': 'The testament', 'author': 'John Grisham'}\n{'_id': ObjectId('5ff959517578e2841620c1e1'), 'book': 'Tell me your Dreams', 'author': 'Sidney Sheldon'}\n{'_id': ObjectId('5ff959a5aca1b3375b665454'), 'book': 'The Ranch', 'author': 'Danielle Steel'}\n{'_id': ObjectId('5ff959a5aca1b3375b665455'), 'book': 'The Firm', 'author': 'John Grisham'}\n{'_id': ObjectId('5ff959a5aca1b3375b665456'), 'book': 'The runaway jury', 'author': 'John Grisham'}\n{'_id': ObjectId('5ff959a5aca1b3375b665457'), 'book': 'Time to kill', 'author': 'John Grisham'}\n{'_id': ObjectId('5ff959a5aca1b3375b665458'), 'book': 'The testament', 'author': 'John Grisham'}\n{'_id': ObjectId('5ff959a5aca1b3375b665459'), 'book': 'Tell me your Dreams', 'author': 'Sidney Sheldon'}\n"
     ]
    }
   ],
   "source": [
    "#Finds and list all of the books\n",
    "for book in books.find():\n",
    "  print(book)"
   ]
  },
  {
   "cell_type": "code",
   "execution_count": 22,
   "metadata": {},
   "outputs": [
    {
     "output_type": "execute_result",
     "data": {
      "text/plain": [
       "{'_id': ObjectId('5ff957f4aca1b3375b665446'),\n",
       " 'book': 'The Ranch',\n",
       " 'author': 'Danielle Steel'}"
      ]
     },
     "metadata": {},
     "execution_count": 22
    }
   ],
   "source": [
    "#Selects all of the books by a single author\n",
    "books.find_one({'author':\"Danielle Steel\"})\n",
    "\n"
   ]
  },
  {
   "cell_type": "code",
   "execution_count": 7,
   "metadata": {},
   "outputs": [],
   "source": [
    "#Selects all of the books by a single author\n"
   ]
  },
  {
   "cell_type": "code",
   "execution_count": 8,
   "metadata": {},
   "outputs": [],
   "source": [
    "#Selects and lists all the books by a single author by just the title\n"
   ]
  },
  {
   "cell_type": "code",
   "execution_count": 9,
   "metadata": {},
   "outputs": [],
   "source": [
    "#Orders and lists all the books in ASCENDING order by the previous authors\n"
   ]
  },
  {
   "cell_type": "code",
   "execution_count": 10,
   "metadata": {},
   "outputs": [],
   "source": [
    "#Groups and counts the number of books from each of the two authors and places the data in a pipeline.\n"
   ]
  },
  {
   "cell_type": "code",
   "execution_count": 11,
   "metadata": {},
   "outputs": [],
   "source": [
    "#Prints the authors name and the number of the books in the collection\n"
   ]
  },
  {
   "cell_type": "code",
   "execution_count": null,
   "metadata": {},
   "outputs": [],
   "source": []
  }
 ],
 "metadata": {
  "kernelspec": {
   "name": "python3",
   "display_name": "Python 3.9.1 64-bit",
   "metadata": {
    "interpreter": {
     "hash": "b5843a13e7131a14c3c0e364f0390d6592a995e3082c3f83420ac4385eeb2370"
    }
   }
  },
  "language_info": {
   "codemirror_mode": {
    "name": "ipython",
    "version": 3
   },
   "file_extension": ".py",
   "mimetype": "text/x-python",
   "name": "python",
   "nbconvert_exporter": "python",
   "pygments_lexer": "ipython3",
   "version": "3.9.1-final"
  }
 },
 "nbformat": 4,
 "nbformat_minor": 4
}